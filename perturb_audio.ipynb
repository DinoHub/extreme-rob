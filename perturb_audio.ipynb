{
 "cells": [
  {
   "cell_type": "code",
   "execution_count": 1,
   "metadata": {},
   "outputs": [],
   "source": [
    "from audiomentations import Compose, AddGaussianNoise, TimeStretch, PitchShift, Shift\n",
    "import numpy as np\n",
    "from scipy.io.wavfile import write\n",
    "from scipy.io import wavfile\n",
    "import tqdm\n",
    "import glob\n",
    "import os"
   ]
  },
  {
   "cell_type": "code",
   "execution_count": 2,
   "metadata": {},
   "outputs": [
    {
     "data": {
      "text/plain": [
       "'\\nAddGaussianNoise: Adds gaussian noise to the audio samples\\nAddGaussianSNR: Injects gaussian noise using a randomly chosen signal-to-noise ratio\\nClip: Clips audio samples to specified minimum and maximum values\\nClippingDistortion: Distorts the signal by clipping a random percentage of samples\\nGain: Multiplies the audio by a random gain factor\\nMp3Compression: Compresses the audio to lower the quality\\nPitchShift: Shifts the pitch up or down without changing the tempo\\nResample: Resamples the signal to a randomly chosen sampling rate\\nTimeStretch: Changes the speed without changing the pitch\\n'"
      ]
     },
     "execution_count": 2,
     "metadata": {},
     "output_type": "execute_result"
    }
   ],
   "source": [
    "# Types of perturbations\n",
    "\n",
    "\"\"\"\n",
    "AddGaussianNoise: Adds gaussian noise to the audio samples\n",
    "AddGaussianSNR: Injects gaussian noise using a randomly chosen signal-to-noise ratio\n",
    "Clip: Clips audio samples to specified minimum and maximum values\n",
    "ClippingDistortion: Distorts the signal by clipping a random percentage of samples\n",
    "Gain: Multiplies the audio by a random gain factor\n",
    "Mp3Compression: Compresses the audio to lower the quality\n",
    "PitchShift: Shifts the pitch up or down without changing the tempo\n",
    "Resample: Resamples the signal to a randomly chosen sampling rate\n",
    "TimeStretch: Changes the speed without changing the pitch\n",
    "\"\"\""
   ]
  },
  {
   "cell_type": "code",
   "execution_count": 3,
   "metadata": {},
   "outputs": [],
   "source": [
    "def aug_audio(method, strength, sounddata, framerate):\n",
    "    if method == \"PitchShift\":\n",
    "        augment = PitchShift(min_semitones=strength, max_semitones=strength, p=1)\n",
    "    elif method == \"AddGaussianNoise\":\n",
    "        augment = AddGaussianNoise(min_amplitude=strength*0.001, max_amplitude=strength*0.001, p=1)\n",
    "    elif method == \"TimeStretch\":\n",
    "        augment = TimeStretch(min_rate=strength, max_rate=strength, leave_length_unchanged=False, p=1)\n",
    "  \n",
    "    augmented_sample = augment(samples=sounddata, sample_rate=framerate)\n",
    "      \n",
    "    return augmented_sample\n",
    "    "
   ]
  },
  {
   "cell_type": "code",
   "execution_count": 7,
   "metadata": {},
   "outputs": [],
   "source": [
    "for strength in range(1,10):\n",
    "    perturbation = \"TimeStretch\"\n",
    "    base_dir = \"/home/vishesh/Desktop/datasets/fleurs/perturbed_test\"\n",
    "    new_base_dir = os.path.join(base_dir, perturbation, str(strength))\n",
    "    os.makedirs(new_base_dir, exist_ok = True)\n",
    "    for audio_file in glob.glob(\"/home/vishesh/Desktop/datasets/fleurs/test_og/*.wav\"):\n",
    "        filename_absolute = os.path.basename(audio_file) #with .wav\n",
    "        filename = filename_absolute[:-4] #remove .wav\n",
    "        data = wavfile.read(audio_file)\n",
    "        framerate = data[0]\n",
    "        sounddata = data[1]\n",
    "        augmented_sample = aug_audio(perturbation, strength, sounddata, framerate)\n",
    "\n",
    "        new_filepath = os.path.join(new_base_dir, f\"{filename}.wav\")\n",
    "        write(new_filepath, framerate, augmented_sample)"
   ]
  },
  {
   "cell_type": "code",
   "execution_count": null,
   "metadata": {},
   "outputs": [],
   "source": []
  }
 ],
 "metadata": {
  "kernelspec": {
   "display_name": "alibidetect",
   "language": "python",
   "name": "alibidetect"
  },
  "language_info": {
   "codemirror_mode": {
    "name": "ipython",
    "version": 3
   },
   "file_extension": ".py",
   "mimetype": "text/x-python",
   "name": "python",
   "nbconvert_exporter": "python",
   "pygments_lexer": "ipython3",
   "version": "3.9.12"
  }
 },
 "nbformat": 4,
 "nbformat_minor": 2
}
