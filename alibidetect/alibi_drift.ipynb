{
 "cells": [
  {
   "cell_type": "code",
   "execution_count": 1,
   "id": "773b0b87",
   "metadata": {
    "scrolled": true
   },
   "outputs": [
    {
     "name": "stderr",
     "output_type": "stream",
     "text": [
      "2023-07-03 16:22:16.400216: I tensorflow/core/platform/cpu_feature_guard.cc:193] This TensorFlow binary is optimized with oneAPI Deep Neural Network Library (oneDNN) to use the following CPU instructions in performance-critical operations:  AVX2 AVX512F AVX512_VNNI FMA\n",
      "To enable them in other operations, rebuild TensorFlow with the appropriate compiler flags.\n",
      "2023-07-03 16:22:16.491280: I tensorflow/core/util/port.cc:104] oneDNN custom operations are on. You may see slightly different numerical results due to floating-point round-off errors from different computation orders. To turn them off, set the environment variable `TF_ENABLE_ONEDNN_OPTS=0`.\n",
      "2023-07-03 16:22:16.989358: W tensorflow/compiler/xla/stream_executor/platform/default/dso_loader.cc:64] Could not load dynamic library 'libnvinfer.so.7'; dlerror: libnvinfer.so.7: cannot open shared object file: No such file or directory; LD_LIBRARY_PATH: :/home/vishesh/anaconda3/lib/:/home/vishesh/anaconda3/lib/python3.9/site-packages/nvidia/cudnn/lib\n",
      "2023-07-03 16:22:16.989396: W tensorflow/compiler/xla/stream_executor/platform/default/dso_loader.cc:64] Could not load dynamic library 'libnvinfer_plugin.so.7'; dlerror: libnvinfer_plugin.so.7: cannot open shared object file: No such file or directory; LD_LIBRARY_PATH: :/home/vishesh/anaconda3/lib/:/home/vishesh/anaconda3/lib/python3.9/site-packages/nvidia/cudnn/lib\n",
      "2023-07-03 16:22:16.989400: W tensorflow/compiler/tf2tensorrt/utils/py_utils.cc:38] TF-TRT Warning: Cannot dlopen some TensorRT libraries. If you would like to use Nvidia GPU with TensorRT, please make sure the missing libraries mentioned above are installed properly.\n",
      "/home/vishesh/anaconda3/envs/alibidetect/lib/python3.9/site-packages/tqdm/auto.py:21: TqdmWarning: IProgress not found. Please update jupyter and ipywidgets. See https://ipywidgets.readthedocs.io/en/stable/user_install.html\n",
      "  from .autonotebook import tqdm as notebook_tqdm\n"
     ]
    }
   ],
   "source": [
    "import matplotlib.pyplot as plt\n",
    "import os\n",
    "import numpy as np\n",
    "import tensorflow as tf\n",
    "\n",
    "from alibi_detect.cd import ClassifierDrift\n",
    "from alibi_detect.datasets import fetch_cifar10c, corruption_types_cifar10c"
   ]
  },
  {
   "cell_type": "code",
   "execution_count": 2,
   "id": "5495c81c",
   "metadata": {},
   "outputs": [],
   "source": [
    "train_data_dir = \"/home/vishesh/Desktop/datasets/ships-data/X_true_train_240_320\"\n",
    "train_ground_truth_dir = \"/home/vishesh/Desktop/datasets/ships-data/Y_true_train_240_320\"\n",
    "\n",
    "test_data_path = \"/home/vishesh/Desktop/datasets/ships-data/X_true_val_240_320/1.npy\"\n",
    "test_ground_truth_path = \"/home/vishesh/Desktop/datasets/ships-data/Y_true_val_240_320/1.npy\"\n",
    "\n",
    "perturbation = \"contrast\"\n",
    "strength = 1\n",
    "perturbed_dataset_path = f\"/home/vishesh/Desktop/datasets/ships-data/perturbed_test/varying/{perturbation}/{strength}/1.npy\""
   ]
  },
  {
   "cell_type": "code",
   "execution_count": 3,
   "id": "02618365",
   "metadata": {},
   "outputs": [
    {
     "name": "stdout",
     "output_type": "stream",
     "text": [
      "1\n",
      "2\n",
      "3\n",
      "4\n",
      "5\n",
      "6\n"
     ]
    }
   ],
   "source": [
    "X_train = None\n",
    "y_train = None\n",
    "\n",
    "\n",
    "for i in range(1,7):\n",
    "    print(i)\n",
    "    input_data_path = os.path.join(train_data_dir, f\"{i}.npy\")\n",
    "    ground_truth_path = os.path.join(train_ground_truth_dir, f\"{i}.npy\")\n",
    "    \n",
    "    if i == 1:\n",
    "        X_train = np.load(input_data_path)\n",
    "        y_train = np.load(ground_truth_path)\n",
    "        continue\n",
    "        \n",
    "        \n",
    "    new_input_data = np.load(input_data_path)\n",
    "    new_ground_truth = np.load(ground_truth_path)\n",
    "    \n",
    "\n",
    "    X_train = np.vstack((X_train, new_input_data))\n",
    "    y_train = np.hstack((y_train, new_ground_truth))\n",
    "    \n",
    "y_train = y_train.astype(int)"
   ]
  },
  {
   "cell_type": "code",
   "execution_count": 4,
   "id": "b22384e4",
   "metadata": {},
   "outputs": [
    {
     "name": "stdout",
     "output_type": "stream",
     "text": [
      "(6000, 240, 320, 3) (6000,) (1000, 240, 320, 3) (1000,)\n"
     ]
    }
   ],
   "source": [
    "X_test = np.load(perturbed_dataset_path)\n",
    "y_test = np.load(test_ground_truth_path).astype(int)\n",
    "\n",
    "# perturbed_dataset = np.load(perturbed_dataset_path)\n",
    "# X_test[-200:] = perturbed_dataset[-200:]\n",
    "\n",
    "print(X_train.shape, y_train.shape, X_test.shape, y_test.shape)"
   ]
  },
  {
   "cell_type": "code",
   "execution_count": 5,
   "id": "ca3e5862",
   "metadata": {},
   "outputs": [
    {
     "name": "stderr",
     "output_type": "stream",
     "text": [
      "2023-07-03 16:22:30.376690: E tensorflow/compiler/xla/stream_executor/cuda/cuda_driver.cc:267] failed call to cuInit: CUDA_ERROR_UNKNOWN: unknown error\n",
      "Both `n_folds` and `train_size` specified. By default `n_folds` is used.\n"
     ]
    }
   ],
   "source": [
    "from tensorflow.keras.layers import Conv2D, Dense, Flatten, Input\n",
    "\n",
    "tf.random.set_seed(0)\n",
    "\n",
    "model = tf.keras.Sequential(\n",
    "  [\n",
    "      Input(shape=(240, 320, 3)),\n",
    "      Conv2D(8, 3, strides=1, padding='same', activation=tf.nn.relu),\n",
    "      Conv2D(16, 3, strides=1, padding='same', activation=tf.nn.relu),\n",
    "      Conv2D(32, 3, strides=2, padding='same', activation=tf.nn.relu),\n",
    "      Conv2D(64, 5, strides=2, padding='same', activation=tf.nn.relu),\n",
    "      Conv2D(128, 3, strides=2, padding='same', activation=tf.nn.relu),\n",
    "      Flatten(),\n",
    "      Dense(2, activation='softmax')\n",
    "  ]\n",
    ")\n",
    "\n",
    "# cd = ClassifierDrift(X_train, model, p_val=.05, train_size=.75, epochs=10, batch_size=1)\n",
    "cd = ClassifierDrift(X_train, model, p_val=.05, n_folds=5, epochs=1)"
   ]
  },
  {
   "cell_type": "code",
   "execution_count": null,
   "id": "58cf2975",
   "metadata": {},
   "outputs": [],
   "source": [
    "labels = ['No!', 'Yes!']\n",
    "\n",
    "preds = cd.predict(X_test[:500])\n",
    "print('No corruption')\n",
    "print('Drift? {}'.format(labels[preds['data']['is_drift']]))\n",
    "print(f'p-value: {preds[\"data\"][\"p_val\"]:.3f}')"
   ]
  },
  {
   "cell_type": "code",
   "execution_count": null,
   "id": "65fccf80",
   "metadata": {},
   "outputs": [],
   "source": []
  },
  {
   "cell_type": "code",
   "execution_count": null,
   "id": "349c32aa",
   "metadata": {},
   "outputs": [],
   "source": []
  }
 ],
 "metadata": {
  "kernelspec": {
   "display_name": "alibidetect",
   "language": "python",
   "name": "alibidetect"
  },
  "language_info": {
   "codemirror_mode": {
    "name": "ipython",
    "version": 3
   },
   "file_extension": ".py",
   "mimetype": "text/x-python",
   "name": "python",
   "nbconvert_exporter": "python",
   "pygments_lexer": "ipython3",
   "version": "3.9.12"
  }
 },
 "nbformat": 4,
 "nbformat_minor": 5
}
