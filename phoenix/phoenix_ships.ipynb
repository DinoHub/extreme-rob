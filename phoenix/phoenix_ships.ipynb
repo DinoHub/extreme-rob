{
 "cells": [
  {
   "cell_type": "code",
   "execution_count": 1,
   "id": "669c2973",
   "metadata": {},
   "outputs": [
    {
     "name": "stderr",
     "output_type": "stream",
     "text": [
      "/home/vishesh/anaconda3/envs/alibidetect/lib/python3.9/site-packages/tqdm/auto.py:21: TqdmWarning: IProgress not found. Please update jupyter and ipywidgets. See https://ipywidgets.readthedocs.io/en/stable/user_install.html\n",
      "  from .autonotebook import tqdm as notebook_tqdm\n",
      "2023-08-10 13:52:59.488692: I tensorflow/core/platform/cpu_feature_guard.cc:193] This TensorFlow binary is optimized with oneAPI Deep Neural Network Library (oneDNN) to use the following CPU instructions in performance-critical operations:  AVX2 AVX512F AVX512_VNNI FMA\n",
      "To enable them in other operations, rebuild TensorFlow with the appropriate compiler flags.\n",
      "2023-08-10 13:52:59.560110: I tensorflow/core/util/port.cc:104] oneDNN custom operations are on. You may see slightly different numerical results due to floating-point round-off errors from different computation orders. To turn them off, set the environment variable `TF_ENABLE_ONEDNN_OPTS=0`.\n",
      "2023-08-10 13:53:00.016850: W tensorflow/compiler/xla/stream_executor/platform/default/dso_loader.cc:64] Could not load dynamic library 'libnvinfer.so.7'; dlerror: libnvinfer.so.7: cannot open shared object file: No such file or directory; LD_LIBRARY_PATH: :/home/vishesh/anaconda3/lib/:/home/vishesh/anaconda3/lib/python3.9/site-packages/nvidia/cudnn/lib:/home/vishesh/anaconda3/lib/:/home/vishesh/anaconda3/lib/python3.9/site-packages/nvidia/cudnn/lib\n",
      "2023-08-10 13:53:00.016889: W tensorflow/compiler/xla/stream_executor/platform/default/dso_loader.cc:64] Could not load dynamic library 'libnvinfer_plugin.so.7'; dlerror: libnvinfer_plugin.so.7: cannot open shared object file: No such file or directory; LD_LIBRARY_PATH: :/home/vishesh/anaconda3/lib/:/home/vishesh/anaconda3/lib/python3.9/site-packages/nvidia/cudnn/lib:/home/vishesh/anaconda3/lib/:/home/vishesh/anaconda3/lib/python3.9/site-packages/nvidia/cudnn/lib\n",
      "2023-08-10 13:53:00.016893: W tensorflow/compiler/tf2tensorrt/utils/py_utils.cc:38] TF-TRT Warning: Cannot dlopen some TensorRT libraries. If you would like to use Nvidia GPU with TensorRT, please make sure the missing libraries mentioned above are installed properly.\n"
     ]
    }
   ],
   "source": [
    "import pandas as pd\n",
    "import phoenix as px\n",
    "import numpy as np\n",
    "import ast"
   ]
  },
  {
   "cell_type": "code",
   "execution_count": 2,
   "id": "2e76c310",
   "metadata": {},
   "outputs": [],
   "source": [
    "perturbation = \"shot_noise\"\n",
    "severity = 10\n",
    "train_df = pd.read_csv(\"/home/vishesh/Desktop/datasets/ships-data/train.csv\")\n",
    "# clean_val_df = pd.read_csv(\"/home/vishesh/Desktop/datasets/ships-data/clean_val.csv\")\n",
    "perturbed_df = pd.read_csv(f\"/home/vishesh/Desktop/datasets/ships-data/{perturbation}_{severity}_val.csv\")\n",
    "\n",
    "train_df.drop(columns=['Unnamed: 0'], inplace=True)\n",
    "# clean_val_df.drop(columns=['Unnamed: 0'], inplace=True)\n",
    "perturbed_df.drop(columns=['Unnamed: 0'], inplace=True)\n",
    "\n",
    "train_df['actual'] = train_df['actual'].astype(int)\n",
    "# clean_val_df['actual'] = clean_val_df['actual'].astype(int)\n",
    "perturbed_df['actual'] = perturbed_df['actual'].astype(int)\n",
    "\n",
    "def convert_to_list(string):\n",
    "    return np.array(ast.literal_eval(string))\n",
    "\n",
    "train_df['embeddings'] = train_df['embeddings'].apply(convert_to_list)\n",
    "# clean_val_df['embeddings'] = clean_val_df['embeddings'].apply(convert_to_list)\n",
    "perturbed_df['embeddings'] = perturbed_df['embeddings'].apply(convert_to_list)\n",
    "\n",
    "combined_df = perturbed_df\n",
    "# combined_df = pd.concat([clean_val_df[:900], perturbed_df[-100:]], ignore_index=True)"
   ]
  },
  {
   "cell_type": "code",
   "execution_count": 3,
   "id": "30868576",
   "metadata": {},
   "outputs": [
    {
     "data": {
      "text/plain": [
       "((14713, 4), (1000, 4))"
      ]
     },
     "execution_count": 3,
     "metadata": {},
     "output_type": "execute_result"
    }
   ],
   "source": [
    "train_df.shape, combined_df.shape"
   ]
  },
  {
   "cell_type": "markdown",
   "id": "19f4da9d",
   "metadata": {},
   "source": [
    "Refer to this link to launch a web server https://docs.arize.com/phoenix/how-to/define-your-schema#local-images"
   ]
  },
  {
   "cell_type": "code",
   "execution_count": 10,
   "id": "8c2d10bb",
   "metadata": {},
   "outputs": [],
   "source": [
    "train_schema = px.Schema(\n",
    "    prediction_label_column_name=\"predicted\",\n",
    "    actual_label_column_name=\"actual\",\n",
    "    embedding_feature_column_names={\n",
    "        \"image_embedding\": px.EmbeddingColumnNames(\n",
    "            vector_column_name=\"embeddings\",\n",
    "            link_to_data_column_name=\"url\",\n",
    "        ),\n",
    "    },\n",
    ")"
   ]
  },
  {
   "cell_type": "code",
   "execution_count": 11,
   "id": "e8af347d",
   "metadata": {},
   "outputs": [],
   "source": [
    "prod_schema = px.Schema(\n",
    "    prediction_label_column_name=\"predicted\",\n",
    "    actual_label_column_name=\"actual\",\n",
    "    embedding_feature_column_names={\n",
    "        \"image_embedding\": px.EmbeddingColumnNames(\n",
    "            vector_column_name=\"embeddings\",\n",
    "            link_to_data_column_name=\"url\",\n",
    "        ),\n",
    "    },\n",
    ")"
   ]
  },
  {
   "cell_type": "code",
   "execution_count": 12,
   "id": "da4b84b9",
   "metadata": {},
   "outputs": [],
   "source": [
    "prod_ds = px.Dataset(dataframe=combined_df, schema=prod_schema, name=\"production\")\n",
    "train_ds = px.Dataset(dataframe=train_df, schema=train_schema, name=\"training\")"
   ]
  },
  {
   "cell_type": "code",
   "execution_count": 13,
   "id": "a08edff1",
   "metadata": {},
   "outputs": [
    {
     "name": "stdout",
     "output_type": "stream",
     "text": [
      "🌍 To view the Phoenix app in your browser, visit http://localhost:32883/\n",
      "📺 To view the Phoenix app in a notebook, run `px.active_session().view()`\n",
      "📖 For more information on how to use Phoenix, check out https://docs.arize.com/phoenix\n"
     ]
    }
   ],
   "source": [
    "session = px.launch_app(primary=prod_ds, reference=train_ds)"
   ]
  },
  {
   "cell_type": "code",
   "execution_count": null,
   "id": "068db484",
   "metadata": {},
   "outputs": [],
   "source": []
  }
 ],
 "metadata": {
  "kernelspec": {
   "display_name": "Python 3 (ipykernel)",
   "language": "python",
   "name": "python3"
  },
  "language_info": {
   "codemirror_mode": {
    "name": "ipython",
    "version": 3
   },
   "file_extension": ".py",
   "mimetype": "text/x-python",
   "name": "python",
   "nbconvert_exporter": "python",
   "pygments_lexer": "ipython3",
   "version": "3.9.12"
  }
 },
 "nbformat": 4,
 "nbformat_minor": 5
}
