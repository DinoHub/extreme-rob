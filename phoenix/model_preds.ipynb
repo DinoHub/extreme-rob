{
 "cells": [
  {
   "cell_type": "markdown",
   "id": "62de96c4",
   "metadata": {},
   "source": [
    "This notebook is to get the model predictions for the ships classifier and save it to a csv. The csv includes the embeddings and image URLs. Remember to launch a web server from the data directories"
   ]
  },
  {
   "cell_type": "code",
   "execution_count": 1,
   "id": "1a7fd36d",
   "metadata": {},
   "outputs": [
    {
     "name": "stderr",
     "output_type": "stream",
     "text": [
      "2023-07-18 14:38:13.012366: I tensorflow/core/platform/cpu_feature_guard.cc:193] This TensorFlow binary is optimized with oneAPI Deep Neural Network Library (oneDNN) to use the following CPU instructions in performance-critical operations:  AVX2 AVX512F AVX512_VNNI FMA\n",
      "To enable them in other operations, rebuild TensorFlow with the appropriate compiler flags.\n",
      "2023-07-18 14:38:13.095387: I tensorflow/core/util/port.cc:104] oneDNN custom operations are on. You may see slightly different numerical results due to floating-point round-off errors from different computation orders. To turn them off, set the environment variable `TF_ENABLE_ONEDNN_OPTS=0`.\n",
      "2023-07-18 14:38:13.516351: W tensorflow/compiler/xla/stream_executor/platform/default/dso_loader.cc:64] Could not load dynamic library 'libnvinfer.so.7'; dlerror: libnvinfer.so.7: cannot open shared object file: No such file or directory; LD_LIBRARY_PATH: :/home/vishesh/anaconda3/lib/:/home/vishesh/anaconda3/lib/python3.9/site-packages/nvidia/cudnn/lib\n",
      "2023-07-18 14:38:13.516391: W tensorflow/compiler/xla/stream_executor/platform/default/dso_loader.cc:64] Could not load dynamic library 'libnvinfer_plugin.so.7'; dlerror: libnvinfer_plugin.so.7: cannot open shared object file: No such file or directory; LD_LIBRARY_PATH: :/home/vishesh/anaconda3/lib/:/home/vishesh/anaconda3/lib/python3.9/site-packages/nvidia/cudnn/lib\n",
      "2023-07-18 14:38:13.516394: W tensorflow/compiler/tf2tensorrt/utils/py_utils.cc:38] TF-TRT Warning: Cannot dlopen some TensorRT libraries. If you would like to use Nvidia GPU with TensorRT, please make sure the missing libraries mentioned above are installed properly.\n",
      "/home/vishesh/anaconda3/envs/alibidetect/lib/python3.9/site-packages/tensorflow_addons/utils/tfa_eol_msg.py:23: UserWarning: \n",
      "\n",
      "TensorFlow Addons (TFA) has ended development and introduction of new features.\n",
      "TFA has entered a minimal maintenance and release mode until a planned end of life in May 2024.\n",
      "Please modify downstream libraries to take dependencies from other repositories in our TensorFlow community (e.g. Keras, Keras-CV, and Keras-NLP). \n",
      "\n",
      "For more information see: https://github.com/tensorflow/addons/issues/2807 \n",
      "\n",
      "  warnings.warn(\n"
     ]
    }
   ],
   "source": [
    "import tensorflow as tf\n",
    "import tensorflow_addons as tfa\n",
    "import numpy as np\n",
    "import pandas as pd\n",
    "from tensorflow.python.ops.numpy_ops import np_config\n",
    "\n",
    "np_config.enable_numpy_behavior()"
   ]
  },
  {
   "cell_type": "code",
   "execution_count": 2,
   "id": "5ad00e7d",
   "metadata": {},
   "outputs": [
    {
     "name": "stderr",
     "output_type": "stream",
     "text": [
      "2023-07-18 14:38:20.213922: I tensorflow/compiler/xla/stream_executor/cuda/cuda_gpu_executor.cc:981] successful NUMA node read from SysFS had negative value (-1), but there must be at least one NUMA node, so returning NUMA node zero\n",
      "2023-07-18 14:38:20.233394: I tensorflow/compiler/xla/stream_executor/cuda/cuda_gpu_executor.cc:981] successful NUMA node read from SysFS had negative value (-1), but there must be at least one NUMA node, so returning NUMA node zero\n",
      "2023-07-18 14:38:20.233956: I tensorflow/compiler/xla/stream_executor/cuda/cuda_gpu_executor.cc:981] successful NUMA node read from SysFS had negative value (-1), but there must be at least one NUMA node, so returning NUMA node zero\n",
      "2023-07-18 14:38:20.235865: I tensorflow/compiler/xla/stream_executor/cuda/cuda_gpu_executor.cc:981] successful NUMA node read from SysFS had negative value (-1), but there must be at least one NUMA node, so returning NUMA node zero\n",
      "2023-07-18 14:38:20.236426: I tensorflow/compiler/xla/stream_executor/cuda/cuda_gpu_executor.cc:981] successful NUMA node read from SysFS had negative value (-1), but there must be at least one NUMA node, so returning NUMA node zero\n",
      "2023-07-18 14:38:20.236942: I tensorflow/compiler/xla/stream_executor/cuda/cuda_gpu_executor.cc:981] successful NUMA node read from SysFS had negative value (-1), but there must be at least one NUMA node, so returning NUMA node zero\n",
      "2023-07-18 14:38:20.577314: I tensorflow/compiler/xla/stream_executor/cuda/cuda_gpu_executor.cc:981] successful NUMA node read from SysFS had negative value (-1), but there must be at least one NUMA node, so returning NUMA node zero\n",
      "2023-07-18 14:38:20.577871: I tensorflow/compiler/xla/stream_executor/cuda/cuda_gpu_executor.cc:981] successful NUMA node read from SysFS had negative value (-1), but there must be at least one NUMA node, so returning NUMA node zero\n",
      "2023-07-18 14:38:20.578378: I tensorflow/compiler/xla/stream_executor/cuda/cuda_gpu_executor.cc:981] successful NUMA node read from SysFS had negative value (-1), but there must be at least one NUMA node, so returning NUMA node zero\n",
      "2023-07-18 14:38:20.578899: I tensorflow/core/common_runtime/gpu/gpu_device.cc:1613] Created device /job:localhost/replica:0/task:0/device:GPU:0 with 14237 MB memory:  -> device: 0, name: NVIDIA GeForce RTX 3080 Laptop GPU, pci bus id: 0000:01:00.0, compute capability: 8.6\n"
     ]
    }
   ],
   "source": [
    "model = tf.keras.models.load_model(\"/home/vishesh/Desktop/datasets/ships-data/Xception-10-0.74.hdf5\", compile=False)\n",
    "model.compile(optimizer=tfa.optimizers.RectifiedAdam(), loss='categorical_crossentropy')\n",
    "\n",
    "feature_extractor = tf.keras.models.Model(inputs=model.input, outputs=model.get_layer('dense_1').output)"
   ]
  },
  {
   "cell_type": "code",
   "execution_count": 3,
   "id": "c591949f",
   "metadata": {},
   "outputs": [],
   "source": [
    "# input_data_path = \"/home/vishesh/Desktop/datasets/ships-data/X_true_val_240_320/1.npy\"\n",
    "perturbation = \"shot_noise\"\n",
    "severity = 10\n",
    "input_data_path = f\"/home/vishesh/Desktop/datasets/ships-data/perturbed_test/varying/{perturbation}/{severity}/1.npy\"\n",
    "ground_truth_path = \"/home/vishesh/Desktop/datasets/ships-data/Y_true_val_240_320/1.npy\"\n",
    "\n",
    "input_data = np.load(input_data_path)\n",
    "ground_truth = np.load(ground_truth_path)"
   ]
  },
  {
   "cell_type": "code",
   "execution_count": 4,
   "id": "e092bdd0",
   "metadata": {},
   "outputs": [],
   "source": [
    "urls = [f\"http://localhost:8082/{perturbation}/{severity}/img{i}.png\" for i in range(1, input_data.shape[0]+1)]"
   ]
  },
  {
   "cell_type": "code",
   "execution_count": 5,
   "id": "efe34f33",
   "metadata": {},
   "outputs": [
    {
     "name": "stderr",
     "output_type": "stream",
     "text": [
      "2023-07-18 14:38:23.098558: I tensorflow/compiler/xla/stream_executor/cuda/cuda_dnn.cc:428] Loaded cuDNN version 8100\n"
     ]
    },
    {
     "name": "stdout",
     "output_type": "stream",
     "text": [
      "  6/100 [>.............................] - ETA: 2s"
     ]
    },
    {
     "name": "stderr",
     "output_type": "stream",
     "text": [
      "2023-07-18 14:38:24.805614: I tensorflow/compiler/xla/stream_executor/cuda/cuda_blas.cc:630] TensorFloat-32 will be used for the matrix multiplication. This will only be logged once.\n"
     ]
    },
    {
     "name": "stdout",
     "output_type": "stream",
     "text": [
      "100/100 [==============================] - 6s 33ms/step\n",
      "100/100 [==============================] - 4s 33ms/step\n"
     ]
    }
   ],
   "source": [
    "preds = np.argmax(model.predict(input_data, batch_size=10), axis=1)\n",
    "features = feature_extractor.predict(input_data, batch_size=10)"
   ]
  },
  {
   "cell_type": "code",
   "execution_count": 6,
   "id": "b144257d",
   "metadata": {},
   "outputs": [
    {
     "data": {
      "text/html": [
       "<div>\n",
       "<style scoped>\n",
       "    .dataframe tbody tr th:only-of-type {\n",
       "        vertical-align: middle;\n",
       "    }\n",
       "\n",
       "    .dataframe tbody tr th {\n",
       "        vertical-align: top;\n",
       "    }\n",
       "\n",
       "    .dataframe thead th {\n",
       "        text-align: right;\n",
       "    }\n",
       "</style>\n",
       "<table border=\"1\" class=\"dataframe\">\n",
       "  <thead>\n",
       "    <tr style=\"text-align: right;\">\n",
       "      <th></th>\n",
       "      <th>url</th>\n",
       "      <th>embeddings</th>\n",
       "      <th>predicted</th>\n",
       "      <th>actual</th>\n",
       "    </tr>\n",
       "  </thead>\n",
       "  <tbody>\n",
       "    <tr>\n",
       "      <th>0</th>\n",
       "      <td>http://localhost:8082/shot_noise/10/img1.png</td>\n",
       "      <td>[0.15127679705619812, 0.0, 0.13076390326023102...</td>\n",
       "      <td>7</td>\n",
       "      <td>7.0</td>\n",
       "    </tr>\n",
       "    <tr>\n",
       "      <th>1</th>\n",
       "      <td>http://localhost:8082/shot_noise/10/img2.png</td>\n",
       "      <td>[0.0, 0.7796505689620972, 0.6098114848136902, ...</td>\n",
       "      <td>8</td>\n",
       "      <td>8.0</td>\n",
       "    </tr>\n",
       "    <tr>\n",
       "      <th>2</th>\n",
       "      <td>http://localhost:8082/shot_noise/10/img3.png</td>\n",
       "      <td>[0.04025774076581001, 0.0, 0.0, 0.089229017496...</td>\n",
       "      <td>5</td>\n",
       "      <td>8.0</td>\n",
       "    </tr>\n",
       "    <tr>\n",
       "      <th>3</th>\n",
       "      <td>http://localhost:8082/shot_noise/10/img4.png</td>\n",
       "      <td>[0.0, 0.04858534038066864, 0.11604125052690506...</td>\n",
       "      <td>4</td>\n",
       "      <td>2.0</td>\n",
       "    </tr>\n",
       "    <tr>\n",
       "      <th>4</th>\n",
       "      <td>http://localhost:8082/shot_noise/10/img5.png</td>\n",
       "      <td>[0.25134122371673584, 0.0, 0.0, 0.0, 0.4035769...</td>\n",
       "      <td>3</td>\n",
       "      <td>8.0</td>\n",
       "    </tr>\n",
       "    <tr>\n",
       "      <th>5</th>\n",
       "      <td>http://localhost:8082/shot_noise/10/img6.png</td>\n",
       "      <td>[0.0, 0.0, 0.0, 0.0, 0.0, 0.0, 0.0200155898928...</td>\n",
       "      <td>5</td>\n",
       "      <td>0.0</td>\n",
       "    </tr>\n",
       "    <tr>\n",
       "      <th>6</th>\n",
       "      <td>http://localhost:8082/shot_noise/10/img7.png</td>\n",
       "      <td>[0.2322463095188141, 0.2589530348777771, 0.0, ...</td>\n",
       "      <td>1</td>\n",
       "      <td>1.0</td>\n",
       "    </tr>\n",
       "    <tr>\n",
       "      <th>7</th>\n",
       "      <td>http://localhost:8082/shot_noise/10/img8.png</td>\n",
       "      <td>[0.1303481012582779, 0.0, 0.03821878880262375,...</td>\n",
       "      <td>8</td>\n",
       "      <td>8.0</td>\n",
       "    </tr>\n",
       "    <tr>\n",
       "      <th>8</th>\n",
       "      <td>http://localhost:8082/shot_noise/10/img9.png</td>\n",
       "      <td>[0.0, 0.3608892261981964, 0.1379321664571762, ...</td>\n",
       "      <td>4</td>\n",
       "      <td>0.0</td>\n",
       "    </tr>\n",
       "    <tr>\n",
       "      <th>9</th>\n",
       "      <td>http://localhost:8082/shot_noise/10/img10.png</td>\n",
       "      <td>[0.5360773801803589, 0.0, 0.0, 0.0, 0.70785599...</td>\n",
       "      <td>3</td>\n",
       "      <td>3.0</td>\n",
       "    </tr>\n",
       "  </tbody>\n",
       "</table>\n",
       "</div>"
      ],
      "text/plain": [
       "                                             url  \\\n",
       "0   http://localhost:8082/shot_noise/10/img1.png   \n",
       "1   http://localhost:8082/shot_noise/10/img2.png   \n",
       "2   http://localhost:8082/shot_noise/10/img3.png   \n",
       "3   http://localhost:8082/shot_noise/10/img4.png   \n",
       "4   http://localhost:8082/shot_noise/10/img5.png   \n",
       "5   http://localhost:8082/shot_noise/10/img6.png   \n",
       "6   http://localhost:8082/shot_noise/10/img7.png   \n",
       "7   http://localhost:8082/shot_noise/10/img8.png   \n",
       "8   http://localhost:8082/shot_noise/10/img9.png   \n",
       "9  http://localhost:8082/shot_noise/10/img10.png   \n",
       "\n",
       "                                          embeddings  predicted  actual  \n",
       "0  [0.15127679705619812, 0.0, 0.13076390326023102...          7     7.0  \n",
       "1  [0.0, 0.7796505689620972, 0.6098114848136902, ...          8     8.0  \n",
       "2  [0.04025774076581001, 0.0, 0.0, 0.089229017496...          5     8.0  \n",
       "3  [0.0, 0.04858534038066864, 0.11604125052690506...          4     2.0  \n",
       "4  [0.25134122371673584, 0.0, 0.0, 0.0, 0.4035769...          3     8.0  \n",
       "5  [0.0, 0.0, 0.0, 0.0, 0.0, 0.0, 0.0200155898928...          5     0.0  \n",
       "6  [0.2322463095188141, 0.2589530348777771, 0.0, ...          1     1.0  \n",
       "7  [0.1303481012582779, 0.0, 0.03821878880262375,...          8     8.0  \n",
       "8  [0.0, 0.3608892261981964, 0.1379321664571762, ...          4     0.0  \n",
       "9  [0.5360773801803589, 0.0, 0.0, 0.0, 0.70785599...          3     3.0  "
      ]
     },
     "execution_count": 6,
     "metadata": {},
     "output_type": "execute_result"
    }
   ],
   "source": [
    "data_dict = {'url': urls, 'embeddings':features.tolist(), 'predicted': preds, 'actual': ground_truth}\n",
    "df = pd.DataFrame(data_dict)\n",
    "\n",
    "df.head(10)"
   ]
  },
  {
   "cell_type": "code",
   "execution_count": 7,
   "id": "7bc7e050",
   "metadata": {},
   "outputs": [],
   "source": [
    "df.to_csv(f\"/home/vishesh/Desktop/datasets/ships-data/{perturbation}_{severity}_val.csv\")  "
   ]
  },
  {
   "cell_type": "code",
   "execution_count": null,
   "id": "e291e6e3",
   "metadata": {},
   "outputs": [],
   "source": []
  },
  {
   "cell_type": "code",
   "execution_count": null,
   "id": "37c0ef3f",
   "metadata": {},
   "outputs": [],
   "source": []
  },
  {
   "cell_type": "code",
   "execution_count": null,
   "id": "516f3920",
   "metadata": {},
   "outputs": [],
   "source": [
    "perturbation = \"shot_noise\"\n",
    "for severity in range(1,11):\n",
    "    input_data_path = f\"/home/vishesh/Desktop/datasets/ships-data/perturbed_test/varying/{perturbation}/{severity}/1.npy\"\n",
    "    ground_truth_path = \"/home/vishesh/Desktop/datasets/ships-data/Y_true_val_240_320/1.npy\"\n",
    "\n",
    "    input_data = np.load(input_data_path)\n",
    "    ground_truth = np.load(ground_truth_path)\n",
    "\n",
    "    preds = np.argmax(model.predict(input_data, batch_size=10), axis=1)\n",
    "    acc = preds[preds == ground_truth].shape[0]/ ground_truth.shape[0]\n",
    "    print(f\"Acc for sev {severity} is {acc}\")"
   ]
  },
  {
   "cell_type": "code",
   "execution_count": null,
   "id": "4d5378c2",
   "metadata": {},
   "outputs": [],
   "source": []
  }
 ],
 "metadata": {
  "kernelspec": {
   "display_name": "alibidetect",
   "language": "python",
   "name": "alibidetect"
  },
  "language_info": {
   "codemirror_mode": {
    "name": "ipython",
    "version": 3
   },
   "file_extension": ".py",
   "mimetype": "text/x-python",
   "name": "python",
   "nbconvert_exporter": "python",
   "pygments_lexer": "ipython3",
   "version": "3.9.12"
  }
 },
 "nbformat": 4,
 "nbformat_minor": 5
}
