{
 "cells": [
  {
   "cell_type": "code",
   "execution_count": 1,
   "id": "56fbe7fa",
   "metadata": {},
   "outputs": [],
   "source": [
    "# !pip install -q \"arize-phoenix\" \"arize[AutoEmbeddings, LLM_Evaluation]\""
   ]
  },
  {
   "cell_type": "code",
   "execution_count": 2,
   "id": "6e709663",
   "metadata": {},
   "outputs": [
    {
     "name": "stderr",
     "output_type": "stream",
     "text": [
      "/home/vishesh/anaconda3/envs/alibidetect/lib/python3.9/site-packages/tqdm/auto.py:21: TqdmWarning: IProgress not found. Please update jupyter and ipywidgets. See https://ipywidgets.readthedocs.io/en/stable/user_install.html\n",
      "  from .autonotebook import tqdm as notebook_tqdm\n",
      "2023-08-15 17:23:19.562780: I tensorflow/core/platform/cpu_feature_guard.cc:193] This TensorFlow binary is optimized with oneAPI Deep Neural Network Library (oneDNN) to use the following CPU instructions in performance-critical operations:  AVX2 AVX512F AVX512_VNNI FMA\n",
      "To enable them in other operations, rebuild TensorFlow with the appropriate compiler flags.\n",
      "2023-08-15 17:23:19.650884: I tensorflow/core/util/port.cc:104] oneDNN custom operations are on. You may see slightly different numerical results due to floating-point round-off errors from different computation orders. To turn them off, set the environment variable `TF_ENABLE_ONEDNN_OPTS=0`.\n",
      "2023-08-15 17:23:20.031613: W tensorflow/compiler/xla/stream_executor/platform/default/dso_loader.cc:64] Could not load dynamic library 'libnvinfer.so.7'; dlerror: libnvinfer.so.7: cannot open shared object file: No such file or directory; LD_LIBRARY_PATH: :/home/vishesh/anaconda3/lib/:/home/vishesh/anaconda3/lib/python3.9/site-packages/nvidia/cudnn/lib\n",
      "2023-08-15 17:23:20.031654: W tensorflow/compiler/xla/stream_executor/platform/default/dso_loader.cc:64] Could not load dynamic library 'libnvinfer_plugin.so.7'; dlerror: libnvinfer_plugin.so.7: cannot open shared object file: No such file or directory; LD_LIBRARY_PATH: :/home/vishesh/anaconda3/lib/:/home/vishesh/anaconda3/lib/python3.9/site-packages/nvidia/cudnn/lib\n",
      "2023-08-15 17:23:20.031657: W tensorflow/compiler/tf2tensorrt/utils/py_utils.cc:38] TF-TRT Warning: Cannot dlopen some TensorRT libraries. If you would like to use Nvidia GPU with TensorRT, please make sure the missing libraries mentioned above are installed properly.\n"
     ]
    }
   ],
   "source": [
    "from arize.pandas.embeddings import EmbeddingGenerator, UseCases\n",
    "from arize.pandas.generative.llm_evaluation import sacre_bleu, rouge\n",
    "import pandas as pd\n",
    "import phoenix as px\n",
    "import numpy as np"
   ]
  },
  {
   "cell_type": "code",
   "execution_count": 12,
   "id": "f0401a48",
   "metadata": {},
   "outputs": [],
   "source": [
    "perturbation = \"pitchshift\"\n",
    "strength = 10\n",
    "ref_path = \"/home/vishesh/Desktop/datasets/fleurs/embeddings/train_decoder_embeddings.csv\"\n",
    "# cur_path = f\"/home/vishesh/Desktop/datasets/fleurs/embeddings/perturbations/{perturbation}/test_results_{perturbation}_{strength}.csv\"\n",
    "cur_path = f\"/home/vishesh/Desktop/datasets/fleurs/embeddings/test_decoder_embeddings.csv\""
   ]
  },
  {
   "cell_type": "code",
   "execution_count": 13,
   "id": "567eac16",
   "metadata": {},
   "outputs": [],
   "source": [
    "baseline_df = pd.read_csv(ref_path)\n",
    "recent_df = pd.read_csv(cur_path)\n",
    "\n",
    "baseline_df.drop_duplicates(subset=['Labels'], inplace=True)\n",
    "recent_df.drop_duplicates(subset=['Labels'], inplace=True)\n",
    "\n",
    "baseline_df = baseline_df.reset_index(drop=True)  # recommended when using EmbeddingGenerator.generate_embeddings\n",
    "recent_df = recent_df.reset_index(drop=True)"
   ]
  },
  {
   "cell_type": "code",
   "execution_count": 14,
   "id": "a88b4fcf",
   "metadata": {},
   "outputs": [
    {
     "name": "stdout",
     "output_type": "stream",
     "text": [
      "\u001b[38;21m  arize.utils.logging | INFO | Loading metric: rouge\u001b[0m\n",
      "\u001b[38;21m  arize.utils.logging | INFO | Computing rouge scores\u001b[0m\n"
     ]
    },
    {
     "name": "stderr",
     "output_type": "stream",
     "text": [
      "100%|██████████████████████████████████████| 1461/1461 [00:01<00:00, 741.47it/s]"
     ]
    },
    {
     "name": "stdout",
     "output_type": "stream",
     "text": [
      "\u001b[38;21m  arize.utils.logging | INFO | Loading metric: rouge\u001b[0m\n"
     ]
    },
    {
     "name": "stderr",
     "output_type": "stream",
     "text": [
      "\n"
     ]
    },
    {
     "name": "stdout",
     "output_type": "stream",
     "text": [
      "\u001b[38;21m  arize.utils.logging | INFO | Computing rouge scores\u001b[0m\n"
     ]
    },
    {
     "name": "stderr",
     "output_type": "stream",
     "text": [
      "100%|████████████████████████████████████████| 350/350 [00:00<00:00, 730.85it/s]\n"
     ]
    }
   ],
   "source": [
    "def compute_rougeL_scores(df: pd.DataFrame) -> pd.Series:\n",
    "    return rouge(\n",
    "        response_col=df[\"Predictions\"],\n",
    "        references_col=df[\"Labels\"],\n",
    "        rouge_types=[\"rougeL\"],\n",
    "    )[\"rougeL\"]\n",
    "\n",
    "\n",
    "baseline_df[\"rougeL_score\"] = compute_rougeL_scores(baseline_df)\n",
    "recent_df[\"rougeL_score\"] = compute_rougeL_scores(recent_df)"
   ]
  },
  {
   "cell_type": "code",
   "execution_count": 15,
   "id": "1232d892",
   "metadata": {},
   "outputs": [
    {
     "name": "stdout",
     "output_type": "stream",
     "text": [
      "\u001b[38;21m  arize.utils.logging | INFO | Downloading pre-trained model 'distilbert-base-uncased'\u001b[0m\n",
      "\u001b[38;21m  arize.utils.logging | INFO | Downloading tokenizer for 'distilbert-base-uncased'\u001b[0m\n",
      "\u001b[38;21m  arize.utils.logging | INFO | Generating embedding vectors\u001b[0m\n"
     ]
    },
    {
     "name": "stderr",
     "output_type": "stream",
     "text": [
      "                                                                                \r"
     ]
    },
    {
     "name": "stdout",
     "output_type": "stream",
     "text": [
      "\u001b[38;21m  arize.utils.logging | INFO | Generating embedding vectors\u001b[0m\n"
     ]
    },
    {
     "name": "stderr",
     "output_type": "stream",
     "text": [
      "                                                                                \r"
     ]
    }
   ],
   "source": [
    "generator = EmbeddingGenerator.from_use_case(\n",
    "    use_case=UseCases.NLP.SUMMARIZATION,\n",
    "    model_name=\"distilbert-base-uncased\",\n",
    ")\n",
    "baseline_df[\"embeddings\"] = generator.generate_embeddings(text_col=baseline_df[\"Predictions\"])\n",
    "recent_df[\"embeddings\"] = generator.generate_embeddings(text_col=recent_df[\"Predictions\"])"
   ]
  },
  {
   "cell_type": "code",
   "execution_count": 16,
   "id": "934f9b17",
   "metadata": {},
   "outputs": [],
   "source": [
    "embedding_columns = [f\"Embedding_{i}\" for i in range (1,769)]\n",
    "baseline_df[\"embeddings\"] = baseline_df[embedding_columns].values.tolist()\n",
    "recent_df[\"embeddings\"] = recent_df[embedding_columns].values.tolist()\n",
    "\n",
    "def convert_to_list(lst):\n",
    "    return np.array(lst)\n",
    "\n",
    "baseline_df['embeddings'] = baseline_df['embeddings'].apply(convert_to_list)\n",
    "recent_df['embeddings'] = recent_df['embeddings'].apply(convert_to_list)"
   ]
  },
  {
   "cell_type": "code",
   "execution_count": 17,
   "id": "54b2c1a6",
   "metadata": {},
   "outputs": [],
   "source": [
    "columns_to_del = [f\"Embedding_{i}\" for i in range (1,769)]\n",
    "baseline_df.drop(columns=columns_to_del, inplace=True)\n",
    "recent_df.drop(columns=columns_to_del, inplace=True)"
   ]
  },
  {
   "cell_type": "code",
   "execution_count": 18,
   "id": "814c502a",
   "metadata": {},
   "outputs": [],
   "source": [
    "schema = px.Schema(\n",
    "    tag_column_names=[\n",
    "        \"rougeL_score\",\n",
    "        \"Labels\",\n",
    "    ],\n",
    "    response_column_names=px.EmbeddingColumnNames(\n",
    "        vector_column_name=\"embeddings\", raw_data_column_name=\"Predictions\"\n",
    "    ),\n",
    ")"
   ]
  },
  {
   "cell_type": "code",
   "execution_count": 19,
   "id": "1e3eac64",
   "metadata": {},
   "outputs": [],
   "source": [
    "baseline_ds = px.Dataset(dataframe=baseline_df, schema=schema, name=\"baseline\")\n",
    "recent_ds = px.Dataset(dataframe=recent_df, schema=schema, name=\"recent\")"
   ]
  },
  {
   "cell_type": "code",
   "execution_count": 20,
   "id": "d08a53d7",
   "metadata": {},
   "outputs": [
    {
     "name": "stderr",
     "output_type": "stream",
     "text": [
      "WARNING:phoenix.session.session:Existing running Phoenix instance detected! Shutting it down and starting a new instance...\n"
     ]
    },
    {
     "name": "stdout",
     "output_type": "stream",
     "text": [
      "🌍 To view the Phoenix app in your browser, visit http://localhost:35059/\n",
      "📺 To view the Phoenix app in a notebook, run `px.active_session().view()`\n",
      "📖 For more information on how to use Phoenix, check out https://docs.arize.com/phoenix\n"
     ]
    }
   ],
   "source": [
    "session = px.launch_app(primary=recent_ds, reference=baseline_ds)"
   ]
  },
  {
   "cell_type": "code",
   "execution_count": null,
   "id": "54aa5086",
   "metadata": {},
   "outputs": [],
   "source": []
  },
  {
   "cell_type": "code",
   "execution_count": null,
   "id": "50e56baa",
   "metadata": {},
   "outputs": [],
   "source": []
  }
 ],
 "metadata": {
  "kernelspec": {
   "display_name": "alibidetect",
   "language": "python",
   "name": "alibidetect"
  },
  "language_info": {
   "codemirror_mode": {
    "name": "ipython",
    "version": 3
   },
   "file_extension": ".py",
   "mimetype": "text/x-python",
   "name": "python",
   "nbconvert_exporter": "python",
   "pygments_lexer": "ipython3",
   "version": "3.9.12"
  }
 },
 "nbformat": 4,
 "nbformat_minor": 5
}
