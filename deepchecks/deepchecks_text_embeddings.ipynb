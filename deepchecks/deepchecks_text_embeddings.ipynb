{
 "cells": [
  {
   "cell_type": "code",
   "execution_count": 7,
   "metadata": {},
   "outputs": [],
   "source": [
    "perturbation = \"gaussiannoise\"\n",
    "strength = 10\n",
    "ref_path = \"/home/vishesh/Desktop/datasets/fleurs/embeddings/train_decoder_embeddings.csv\"\n",
    "# cur_path = f\"/home/vishesh/Desktop/datasets/fleurs/embeddings/perturbations/{perturbation}/test_results_{perturbation}_{strength}.csv\"\n",
    "cur_path = f\"/home/vishesh/Desktop/datasets/fleurs/embeddings/test_decoder_embeddings.csv\""
   ]
  },
  {
   "cell_type": "code",
   "execution_count": 8,
   "metadata": {},
   "outputs": [],
   "source": [
    "import pandas as pd\n",
    "\n",
    "reference = pd.read_csv(ref_path)\n",
    "current = pd.read_csv(cur_path)\n",
    "current.drop_duplicates(subset=['Predictions'], inplace=True)\n",
    "reference.drop_duplicates(subset=['Predictions'], inplace=True)"
   ]
  },
  {
   "cell_type": "code",
   "execution_count": 9,
   "metadata": {},
   "outputs": [],
   "source": [
    "from deepchecks.nlp import TextData\n",
    "from deepchecks.nlp import checks\n",
    "from deepchecks.nlp.checks import TextEmbeddingsDrift\n",
    "import deepchecks"
   ]
  },
  {
   "cell_type": "code",
   "execution_count": 10,
   "metadata": {},
   "outputs": [],
   "source": [
    "train_transcriptions_nd = list(reference['Predictions'])\n",
    "perturbed_transcriptions_nd = list(current['Predictions'])"
   ]
  },
  {
   "cell_type": "code",
   "execution_count": 11,
   "metadata": {},
   "outputs": [
    {
     "name": "stderr",
     "output_type": "stream",
     "text": [
      "deepchecks - WARNING - Could not find model's classes, using the observed classes. In order to make sure the classes used by the model are inferred correctly, please use the model_classes argument\n"
     ]
    }
   ],
   "source": [
    "# Initialize the TextData object\n",
    "train_text_data = TextData(train_transcriptions_nd)\n",
    "test_text_data = TextData(perturbed_transcriptions_nd)\n",
    "\n",
    "# Calculate the built-in embeddings\n",
    "train_text_data.calculate_builtin_embeddings()\n",
    "test_text_data.calculate_builtin_embeddings()\n",
    "\n",
    "# Run the check\n",
    "result = deepchecks.nlp.checks.TextEmbeddingsDrift().run(train_text_data, test_text_data)\n"
   ]
  },
  {
   "cell_type": "code",
   "execution_count": 6,
   "metadata": {},
   "outputs": [
    {
     "name": "stdout",
     "output_type": "stream",
     "text": [
      "Embeddings Drift: {'domain_classifier_auc': 0.5957392102846648, 'domain_classifier_drift_score': 0.19147842056932962}\n"
     ]
    }
   ],
   "source": [
    "print(result)"
   ]
  },
  {
   "cell_type": "code",
   "execution_count": null,
   "metadata": {},
   "outputs": [],
   "source": [
    "from deepchecks.nlp.checks import TextPropertyOutliers\n",
    "from deepchecks.nlp import TextData\n",
    "\n",
    "# Initialize the TextData object\n",
    "train_text_data = deepchecks.nlp.TextData(train_transcriptions)\n",
    "test_text_data = deepchecks.nlp.TextData(perturbed_transcriptions)\n",
    "\n",
    "# Calculate the default properties\n",
    "train_text_data.calculate_builtin_properties()\n",
    "test_text_data.calculate_builtin_properties()\n",
    "\n",
    "# Run the check\n",
    "deepchecks.nlp.checks.TextPropertyOutliers().run(train_text_data, test_text_data)"
   ]
  },
  {
   "cell_type": "code",
   "execution_count": null,
   "metadata": {},
   "outputs": [],
   "source": [
    "from deepchecks.nlp.checks import TextEmbeddingsDrift\n",
    "from deepchecks.nlp import TextData\n",
    "\n",
    "# Initialize the TextData object\n",
    "train_text_data = TextData(train_transcriptions)\n",
    "test_text_data = TextData(perturbed_transcriptions)\n",
    "\n",
    "# Calculate the built-in embeddings\n",
    "train_text_data.calculate_builtin_embeddings()\n",
    "test_text_data.calculate_builtin_embeddings()\n",
    "\n",
    "# Run the check\n",
    "TextEmbeddingsDrift().run(train_text_data, test_text_data)"
   ]
  },
  {
   "cell_type": "code",
   "execution_count": null,
   "metadata": {},
   "outputs": [],
   "source": [
    "# from deepchecks.nlp.checks import TextPropertyOutliers\n",
    "# from deepchecks.nlp import TextData\n",
    "\n",
    "# # Initialize the TextData object\n",
    "# train_text_data = TextData(train_transcriptions)\n",
    "# test_text_data = TextData(test_transcriptions)\n",
    "\n",
    "# # Calculate the default properties\n",
    "# train_text_data.calculate_builtin_properties()\n",
    "# test_text_data.calculate_builtin_properties()\n",
    "\n",
    "# # Run the check\n",
    "# TextPropertyOutliers().run(train_text_data, test_text_data)"
   ]
  },
  {
   "cell_type": "code",
   "execution_count": null,
   "metadata": {},
   "outputs": [],
   "source": []
  }
 ],
 "metadata": {
  "kernelspec": {
   "display_name": "alibidetect",
   "language": "python",
   "name": "alibidetect"
  },
  "language_info": {
   "codemirror_mode": {
    "name": "ipython",
    "version": 3
   },
   "file_extension": ".py",
   "mimetype": "text/x-python",
   "name": "python",
   "nbconvert_exporter": "python",
   "pygments_lexer": "ipython3",
   "version": "3.9.12"
  }
 },
 "nbformat": 4,
 "nbformat_minor": 2
}
